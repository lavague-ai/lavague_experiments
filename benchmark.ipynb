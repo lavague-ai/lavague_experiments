{
 "cells": [
  {
   "cell_type": "code",
   "execution_count": 1,
   "metadata": {},
   "outputs": [],
   "source": [
    "import pandas as pd\n",
    "\n",
    "df = pd.read_csv(\"predicted_nodes.csv\")"
   ]
  },
  {
   "cell_type": "code",
   "execution_count": 1,
   "metadata": {},
   "outputs": [],
   "source": [
    "import pandas as pd\n",
    "\n",
    "df = pd.read_csv(\"dataset.csv\")"
   ]
  },
  {
   "cell_type": "code",
   "execution_count": 2,
   "metadata": {},
   "outputs": [],
   "source": [
    "from selenium import webdriver\n",
    "from selenium.webdriver.chrome.service import Service\n",
    "from selenium.webdriver.common.by import By\n",
    "from selenium.webdriver.chrome.options import Options\n",
    "from selenium.webdriver.common.keys import Keys\n",
    "import os.path\n",
    "\n",
    "chrome_options = Options()\n",
    "chrome_options.add_argument(\"--headless\") # Ensure GUI is off\n",
    "chrome_options.add_argument(\"--no-sandbox\")\n",
    "\n",
    "homedir = os.path.expanduser(\"~\")\n",
    "chrome_options.binary_location = f\"{homedir}/chrome-linux64/chrome\"\n",
    "webdriver_service = Service(f\"{homedir}/chromedriver-linux64/chromedriver\")\n",
    "\n",
    "driver = webdriver.Chrome(service=webdriver_service, options=chrome_options)"
   ]
  },
  {
   "cell_type": "code",
   "execution_count": 3,
   "metadata": {},
   "outputs": [],
   "source": [
    "import ast\n",
    "from selenium.webdriver.remote.webelement import WebElement\n",
    "\n",
    "import re\n",
    "\n",
    "def keep_assignments(code_snippet):\n",
    "    # Regex to match variable assignments. This pattern assumes variable names are valid Python identifiers\n",
    "    # and captures typical assignment statements, excluding those that might appear in comments or strings.\n",
    "    pattern = r'^\\s*[a-zA-Z_][a-zA-Z0-9_]*\\s*=\\s*.+'\n",
    "\n",
    "    # Filter and keep only lines with variable assignments\n",
    "    assignments = [line for line in code_snippet.split('\\n') if re.match(pattern, line)]\n",
    "\n",
    "    # Join the filtered lines back into a string\n",
    "    return \"\\n\".join(assignments)\n",
    "\n",
    "# This function will be used to visit each node in the AST\n",
    "class VariableVisitor(ast.NodeVisitor):\n",
    "    def __init__(self):\n",
    "        super().__init__()\n",
    "        self.output = []\n",
    "    \n",
    "    def visit_Assign(self, node):\n",
    "        \n",
    "        # For each assignment, print the targets (variables)\n",
    "        for target in node.targets:\n",
    "            if isinstance(target, ast.Name):  # Ensure it's a variable assignment\n",
    "                self.output.append(target.id)\n",
    "def get_web_elements(code_snippet):\n",
    "    # Parse the code snippet into an AST\n",
    "    parsed_code = ast.parse(code_snippet)\n",
    "\n",
    "    # Create a visitor instance and use it to visit the nodes in the parsed AST\n",
    "    visitor = VariableVisitor()\n",
    "    visitor.visit(parsed_code)\n",
    "    variables = visitor.output\n",
    "\n",
    "    output = []\n",
    "    variable_type = WebElement\n",
    "    for var_name in variables:\n",
    "            # Use globals() to get the variable from its name since we are in the global scope\n",
    "        var_value = globals().get(var_name, None)\n",
    "        \n",
    "        # Check if the variable exists and its type\n",
    "        if var_value is not None and isinstance(var_value, variable_type):\n",
    "            output.append(var_value)\n",
    "    return output"
   ]
  },
  {
   "cell_type": "code",
   "execution_count": 4,
   "metadata": {},
   "outputs": [
    {
     "name": "stderr",
     "output_type": "stream",
     "text": [
      "10it [00:05,  1.88it/s]"
     ]
    },
    {
     "name": "stdout",
     "output_type": "stream",
     "text": [
      "['<a class=\"btn-mktg home-campaign-enterprise btn-muted-mktg\" data-analytics-event=\"{&quot;category&quot;:&quot;Start a free enterprise trial&quot;,&quot;action&quot;:&quot;click to Start a free enterprise trial&quot;,&quot;label&quot;:&quot;ref_cta:Start a free enterprise trial;&quot;}\" href=\"/organizations/enterprise_plan?ref_cta=Start+a+free+enterprise+trial&amp;ref_loc=Home+campaign+hero&amp;ref_page=%2F\" data-test-selector=\"start-trial-button\">\\n  Start a free enterprise trial\\n  \\n  <svg xmlns=\"http://www.w3.org/2000/svg\" class=\"octicon arrow-symbol-mktg\" width=\"16\" height=\"16\" viewBox=\"0 0 16 16\" fill=\"none\"><path fill=\"currentColor\" d=\"M7.28033 3.21967C6.98744 2.92678 6.51256 2.92678 6.21967 3.21967C5.92678 3.51256 5.92678 3.98744 6.21967 4.28033L7.28033 3.21967ZM11 8L11.5303 8.53033C11.8232 8.23744 11.8232 7.76256 11.5303 7.46967L11 8ZM6.21967 11.7197C5.92678 12.0126 5.92678 12.4874 6.21967 12.7803C6.51256 13.0732 6.98744 13.0732 7.28033 12.7803L6.21967 11.7197ZM6.21967 4.28033L10.4697 8.53033L11.5303 7.46967L7.28033 3.21967L6.21967 4.28033ZM10.4697 7.46967L6.21967 11.7197L7.28033 12.7803L11.5303 8.53033L10.4697 7.46967Z\"></path><path class=\"octicon-chevrow-stem\" stroke=\"currentColor\" d=\"M1.75 8H11\" stroke-width=\"1.5\" stroke-linecap=\"round\"></path></svg>\\n\\n</a>', '<a class=\"group flex items-center px-2 py-0.5 dark:hover:text-gray-400 hover:text-red-700\" href=\"/datasets\"><svg class=\"mr-1.5 text-gray-400 group-hover:text-red-500\" style=\"\" xmlns=\"http://www.w3.org/2000/svg\" xmlns:xlink=\"http://www.w3.org/1999/xlink\" aria-hidden=\"true\" focusable=\"false\" role=\"img\" width=\"1em\" height=\"1em\" preserveAspectRatio=\"xMidYMid meet\" viewBox=\"0 0 25 25\"><ellipse cx=\"12.5\" cy=\"5\" fill=\"currentColor\" fill-opacity=\"0.25\" rx=\"7.5\" ry=\"2\"></ellipse><path d=\"M12.5 15C16.6421 15 20 14.1046 20 13V20C20 21.1046 16.6421 22 12.5 22C8.35786 22 5 21.1046 5 20V13C5 14.1046 8.35786 15 12.5 15Z\" fill=\"currentColor\" opacity=\"0.5\"></path><path d=\"M12.5 7C16.6421 7 20 6.10457 20 5V11.5C20 12.6046 16.6421 13.5 12.5 13.5C8.35786 13.5 5 12.6046 5 11.5V5C5 6.10457 8.35786 7 12.5 7Z\" fill=\"currentColor\" opacity=\"0.5\"></path><path d=\"M5.23628 12C5.08204 12.1598 5 12.8273 5 13C5 14.1046 8.35786 15 12.5 15C16.6421 15 20 14.1046 20 13C20 12.8273 19.918 12.1598 19.7637 12C18.9311 12.8626 15.9947 13.5 12.5 13.5C9.0053 13.5 6.06886 12.8626 5.23628 12Z\" fill=\"currentColor\"></path></svg> Datasets</a>', '<a href=\"https://www.irs.gov/compliance/criminal-investigation\" data-drupal-link-system-path=\"node/19091\">Criminal Investigation</a>', '<a href=\"/competitions\" data-click-log-id=\"nav-con-competitions\" class=\"sc-jtMbrs bwioyi\">Competitions</a>', '<li id=\"pt-createaccount-2\" class=\"user-links-collapsible-item mw-list-item user-links-collapsible-item\"><a data-mw=\"interface\" href=\"/w/index.php?title=Special:CreateAccount&amp;returnto=Main+Page\" title=\"You are encouraged to create an account and log in; however, it is not mandatory\" class=\"\"><span>Create account</span></a>\\n</li>', '<a class=\"gb_H\" aria-label=\"Gmail (opens a new tab)\" data-pid=\"23\" href=\"https://mail.google.com/mail/&amp;ogbl\" target=\"_top\">Gmail</a>', '<a class=\"cta_button\" data-size=\"\" data-variant=\"primary\" data-stacking=\"default\" aria-label=\"Start free trial: Salesforce Starter Suite\" href=\"https://www.salesforce.com/form/signup/freetrial-salesforce-starter/?d=pb\" target=\"_self\" rel=\"noopener\">\\n        Start free trial\\n        </a>', '<a href=\"https://www.ldlc.com/configurateur/\"><span class=\"icon icon-cat icon-tools\">&nbsp;</span> <span>Configurateur PC</span> </a>', '<div class=\"index-search__input\"><input type=\"text\" class=\"index-search__input-value index-search__input-value--xl svelte-ambpd9\" aria-label=\"Enter domain, keyword or URL\" placeholder=\"Enter domain, keyword or URL\" role=\"combobox\" aria-autocomplete=\"list\" aria-controls=\"suggest-list\" aria-expanded=\"false\"> <div class=\"index-search__input-outline  svelte-ambpd9\"></div></div>', '<a class=\"\\n  cl-button -secondary -large wf-page-header__cta homepage-hero2-cta\" href=\"https://app.hubspot.com/signup-hubspot/crm?hubs_signup-url=www.hubspot.com&amp;hubs_signup-cta=homepage-hero2-cta&amp;__hstc=753710.85d18c6dac058278e8b3501f07115fe8.1711575698202.1711575698202.1711575698202.1&amp;__hssc=753710.1.1711575698202&amp;__hsfp=3584728142\" rel=\"noreferrer \" data-hs-event-96027165=\"1\">\\n        Get started free\\n        \\n          <span class=\"visually-hidden\">with HubSpot\\'s free tools</span>\\n        \\n      </a>']\n"
     ]
    },
    {
     "name": "stderr",
     "output_type": "stream",
     "text": [
      "\n"
     ]
    }
   ],
   "source": [
    "from tqdm import tqdm\n",
    "\n",
    "output = []\n",
    "\n",
    "for index, row in tqdm(df.iterrows()):\n",
    "    html = row['html']\n",
    "    file_path = 'sample_page.html'\n",
    "    html_content = html\n",
    "\n",
    "    with open(file_path, 'w', encoding='utf-8') as file:\n",
    "        file.write(html_content)\n",
    "\n",
    "    code = row['code']\n",
    "    code = keep_assignments(code)\n",
    "    \n",
    "    abs_file_path = os.path.abspath(\"sample_page.html\")\n",
    "\n",
    "    # Use the file:/// protocol to load the local HTML file\n",
    "    driver.get(f\"file:///{abs_file_path}\")\n",
    "    \n",
    "    exec(code)\n",
    "    \n",
    "    variables = get_web_elements(code)\n",
    "    \n",
    "    # We assume there is only one variable defined\n",
    "    variable = variables[0]\n",
    "    outer_html = variable.get_attribute(\"outerHTML\")\n",
    "    \n",
    "    output.append(outer_html)\n",
    "    \n",
    "print(output)"
   ]
  },
  {
   "cell_type": "code",
   "execution_count": 5,
   "metadata": {},
   "outputs": [],
   "source": [
    "df[\"outer_html\"] = output"
   ]
  },
  {
   "cell_type": "code",
   "execution_count": 6,
   "metadata": {},
   "outputs": [
    {
     "data": {
      "text/html": [
       "<a class=\"btn-mktg home-campaign-enterprise btn-muted-mktg\" data-analytics-event=\"{&quot;category&quot;:&quot;Start a free enterprise trial&quot;,&quot;action&quot;:&quot;click to Start a free enterprise trial&quot;,&quot;label&quot;:&quot;ref_cta:Start a free enterprise trial;&quot;}\" href=\"/organizations/enterprise_plan?ref_cta=Start+a+free+enterprise+trial&amp;ref_loc=Home+campaign+hero&amp;ref_page=%2F\" data-test-selector=\"start-trial-button\">\n",
       "  Start a free enterprise trial\n",
       "  \n",
       "  <svg xmlns=\"http://www.w3.org/2000/svg\" class=\"octicon arrow-symbol-mktg\" width=\"16\" height=\"16\" viewBox=\"0 0 16 16\" fill=\"none\"><path fill=\"currentColor\" d=\"M7.28033 3.21967C6.98744 2.92678 6.51256 2.92678 6.21967 3.21967C5.92678 3.51256 5.92678 3.98744 6.21967 4.28033L7.28033 3.21967ZM11 8L11.5303 8.53033C11.8232 8.23744 11.8232 7.76256 11.5303 7.46967L11 8ZM6.21967 11.7197C5.92678 12.0126 5.92678 12.4874 6.21967 12.7803C6.51256 13.0732 6.98744 13.0732 7.28033 12.7803L6.21967 11.7197ZM6.21967 4.28033L10.4697 8.53033L11.5303 7.46967L7.28033 3.21967L6.21967 4.28033ZM10.4697 7.46967L6.21967 11.7197L7.28033 12.7803L11.5303 8.53033L10.4697 7.46967Z\"></path><path class=\"octicon-chevrow-stem\" stroke=\"currentColor\" d=\"M1.75 8H11\" stroke-width=\"1.5\" stroke-linecap=\"round\"></path></svg>\n",
       "\n",
       "</a>"
      ],
      "text/plain": [
       "<IPython.core.display.HTML object>"
      ]
     },
     "metadata": {},
     "output_type": "display_data"
    },
    {
     "data": {
      "text/html": [
       "<a class=\"group flex items-center px-2 py-0.5 dark:hover:text-gray-400 hover:text-red-700\" href=\"/datasets\"><svg class=\"mr-1.5 text-gray-400 group-hover:text-red-500\" style=\"\" xmlns=\"http://www.w3.org/2000/svg\" xmlns:xlink=\"http://www.w3.org/1999/xlink\" aria-hidden=\"true\" focusable=\"false\" role=\"img\" width=\"1em\" height=\"1em\" preserveAspectRatio=\"xMidYMid meet\" viewBox=\"0 0 25 25\"><ellipse cx=\"12.5\" cy=\"5\" fill=\"currentColor\" fill-opacity=\"0.25\" rx=\"7.5\" ry=\"2\"></ellipse><path d=\"M12.5 15C16.6421 15 20 14.1046 20 13V20C20 21.1046 16.6421 22 12.5 22C8.35786 22 5 21.1046 5 20V13C5 14.1046 8.35786 15 12.5 15Z\" fill=\"currentColor\" opacity=\"0.5\"></path><path d=\"M12.5 7C16.6421 7 20 6.10457 20 5V11.5C20 12.6046 16.6421 13.5 12.5 13.5C8.35786 13.5 5 12.6046 5 11.5V5C5 6.10457 8.35786 7 12.5 7Z\" fill=\"currentColor\" opacity=\"0.5\"></path><path d=\"M5.23628 12C5.08204 12.1598 5 12.8273 5 13C5 14.1046 8.35786 15 12.5 15C16.6421 15 20 14.1046 20 13C20 12.8273 19.918 12.1598 19.7637 12C18.9311 12.8626 15.9947 13.5 12.5 13.5C9.0053 13.5 6.06886 12.8626 5.23628 12Z\" fill=\"currentColor\"></path></svg> Datasets</a>"
      ],
      "text/plain": [
       "<IPython.core.display.HTML object>"
      ]
     },
     "metadata": {},
     "output_type": "display_data"
    },
    {
     "data": {
      "text/html": [
       "<a href=\"https://www.irs.gov/compliance/criminal-investigation\" data-drupal-link-system-path=\"node/19091\">Criminal Investigation</a>"
      ],
      "text/plain": [
       "<IPython.core.display.HTML object>"
      ]
     },
     "metadata": {},
     "output_type": "display_data"
    },
    {
     "data": {
      "text/html": [
       "<a href=\"/competitions\" data-click-log-id=\"nav-con-competitions\" class=\"sc-jtMbrs bwioyi\">Competitions</a>"
      ],
      "text/plain": [
       "<IPython.core.display.HTML object>"
      ]
     },
     "metadata": {},
     "output_type": "display_data"
    },
    {
     "data": {
      "text/html": [
       "<li id=\"pt-createaccount-2\" class=\"user-links-collapsible-item mw-list-item user-links-collapsible-item\"><a data-mw=\"interface\" href=\"/w/index.php?title=Special:CreateAccount&amp;returnto=Main+Page\" title=\"You are encouraged to create an account and log in; however, it is not mandatory\" class=\"\"><span>Create account</span></a>\n",
       "</li>"
      ],
      "text/plain": [
       "<IPython.core.display.HTML object>"
      ]
     },
     "metadata": {},
     "output_type": "display_data"
    },
    {
     "data": {
      "text/html": [
       "<a class=\"gb_H\" aria-label=\"Gmail (opens a new tab)\" data-pid=\"23\" href=\"https://mail.google.com/mail/&amp;ogbl\" target=\"_top\">Gmail</a>"
      ],
      "text/plain": [
       "<IPython.core.display.HTML object>"
      ]
     },
     "metadata": {},
     "output_type": "display_data"
    },
    {
     "data": {
      "text/html": [
       "<a class=\"cta_button\" data-size=\"\" data-variant=\"primary\" data-stacking=\"default\" aria-label=\"Start free trial: Salesforce Starter Suite\" href=\"https://www.salesforce.com/form/signup/freetrial-salesforce-starter/?d=pb\" target=\"_self\" rel=\"noopener\">\n",
       "        Start free trial\n",
       "        </a>"
      ],
      "text/plain": [
       "<IPython.core.display.HTML object>"
      ]
     },
     "metadata": {},
     "output_type": "display_data"
    },
    {
     "data": {
      "text/html": [
       "<a href=\"https://www.ldlc.com/configurateur/\"><span class=\"icon icon-cat icon-tools\">&nbsp;</span> <span>Configurateur PC</span> </a>"
      ],
      "text/plain": [
       "<IPython.core.display.HTML object>"
      ]
     },
     "metadata": {},
     "output_type": "display_data"
    },
    {
     "data": {
      "text/html": [
       "<div class=\"index-search__input\"><input type=\"text\" class=\"index-search__input-value index-search__input-value--xl svelte-ambpd9\" aria-label=\"Enter domain, keyword or URL\" placeholder=\"Enter domain, keyword or URL\" role=\"combobox\" aria-autocomplete=\"list\" aria-controls=\"suggest-list\" aria-expanded=\"false\"> <div class=\"index-search__input-outline  svelte-ambpd9\"></div></div>"
      ],
      "text/plain": [
       "<IPython.core.display.HTML object>"
      ]
     },
     "metadata": {},
     "output_type": "display_data"
    },
    {
     "data": {
      "text/html": [
       "<a class=\"\n",
       "  cl-button -secondary -large wf-page-header__cta homepage-hero2-cta\" href=\"https://app.hubspot.com/signup-hubspot/crm?hubs_signup-url=www.hubspot.com&amp;hubs_signup-cta=homepage-hero2-cta&amp;__hstc=753710.85d18c6dac058278e8b3501f07115fe8.1711575698202.1711575698202.1711575698202.1&amp;__hssc=753710.1.1711575698202&amp;__hsfp=3584728142\" rel=\"noreferrer \" data-hs-event-96027165=\"1\">\n",
       "        Get started free\n",
       "        \n",
       "          <span class=\"visually-hidden\">with HubSpot's free tools</span>\n",
       "        \n",
       "      </a>"
      ],
      "text/plain": [
       "<IPython.core.display.HTML object>"
      ]
     },
     "metadata": {},
     "output_type": "display_data"
    }
   ],
   "source": [
    "from IPython.display import HTML, display\n",
    "\n",
    "for html in df['outer_html']:\n",
    "    display(HTML(html))"
   ]
  }
 ],
 "metadata": {
  "kernelspec": {
   "display_name": "lavague",
   "language": "python",
   "name": "python3"
  },
  "language_info": {
   "codemirror_mode": {
    "name": "ipython",
    "version": 3
   },
   "file_extension": ".py",
   "mimetype": "text/x-python",
   "name": "python",
   "nbconvert_exporter": "python",
   "pygments_lexer": "ipython3",
   "version": "3.10.13"
  }
 },
 "nbformat": 4,
 "nbformat_minor": 2
}
