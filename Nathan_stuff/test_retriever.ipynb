{
 "cells": [
  {
   "cell_type": "code",
   "execution_count": 89,
   "metadata": {},
   "outputs": [],
   "source": [
    "import pandas as pd\n",
    "from langchain_text_splitters import RecursiveCharacterTextSplitter\n",
    "from llama_index.core.node_parser import LangchainNodeParser, CodeSplitter\n",
    "from llama_index.retrievers.bm25 import BM25Retriever\n",
    "from llama_index.core import VectorStoreIndex, Document\n",
    "from langchain.docstore.document import Document as Doc\n",
    "from llama_index.embeddings.huggingface import HuggingFaceEmbedding\n",
    "import numpy as np\n",
    "from tqdm import tqdm\n",
    "from llama_index.core.retrievers import QueryFusionRetriever\n",
    "import os\n",
    "from llama_index.llms.azure_openai import AzureOpenAI"
   ]
  },
  {
   "cell_type": "code",
   "execution_count": 90,
   "metadata": {},
   "outputs": [
    {
     "data": {
      "text/html": [
       "<div>\n",
       "<style scoped>\n",
       "    .dataframe tbody tr th:only-of-type {\n",
       "        vertical-align: middle;\n",
       "    }\n",
       "\n",
       "    .dataframe tbody tr th {\n",
       "        vertical-align: top;\n",
       "    }\n",
       "\n",
       "    .dataframe thead th {\n",
       "        text-align: right;\n",
       "    }\n",
       "</style>\n",
       "<table border=\"1\" class=\"dataframe\">\n",
       "  <thead>\n",
       "    <tr style=\"text-align: right;\">\n",
       "      <th></th>\n",
       "      <th>url</th>\n",
       "      <th>html</th>\n",
       "      <th>query</th>\n",
       "      <th>node</th>\n",
       "      <th>code</th>\n",
       "    </tr>\n",
       "  </thead>\n",
       "  <tbody>\n",
       "    <tr>\n",
       "      <th>0</th>\n",
       "      <td>https://github.com</td>\n",
       "      <td>&lt;html lang=\"en\" data-a11y-animated-images=\"sys...</td>\n",
       "      <td>click on start a free entreprise trial</td>\n",
       "      <td>&lt;a class=\"btn-mktg home-campaign-enterprise bt...</td>\n",
       "      <td># Let's proceed step by step.\\n# First we need...</td>\n",
       "    </tr>\n",
       "    <tr>\n",
       "      <th>1</th>\n",
       "      <td>https://huggingface.co/</td>\n",
       "      <td>&lt;html class=\"\"&gt;&lt;head&gt;\\n\\t\\t&lt;meta charset=\"utf-...</td>\n",
       "      <td>click on datasets</td>\n",
       "      <td>&lt;li&gt;&lt;a class=\"group flex items-center px-2 py-...</td>\n",
       "      <td># Let's proceed step by step.\\n# First we need...</td>\n",
       "    </tr>\n",
       "    <tr>\n",
       "      <th>2</th>\n",
       "      <td>https://www.irs.gov</td>\n",
       "      <td>&lt;html lang=\"en\" dir=\"ltr\" prefix=\"content: htt...</td>\n",
       "      <td>click on criminal investigation</td>\n",
       "      <td>&lt;/ul&gt;\\n  \\n              &lt;/li&gt;\\n              ...</td>\n",
       "      <td># Let's proceed step by step.\\n# First we need...</td>\n",
       "    </tr>\n",
       "    <tr>\n",
       "      <th>3</th>\n",
       "      <td>https://www.kaggle.com</td>\n",
       "      <td>&lt;html lang=\"en\"&gt;&lt;head&gt;&lt;meta http-equiv=\"origin...</td>\n",
       "      <td>click on competitions</td>\n",
       "      <td>&lt;div class=\"sc-jiSpbx kcFuZv\"&gt;&lt;div class=\"sc-h...</td>\n",
       "      <td># Let's proceed step by step.\\n# First we need...</td>\n",
       "    </tr>\n",
       "    <tr>\n",
       "      <th>4</th>\n",
       "      <td>https://en.wikipedia.org/wiki/Main_Page</td>\n",
       "      <td>&lt;html class=\"client-js vector-feature-language...</td>\n",
       "      <td>click on create account</td>\n",
       "      <td>&lt;div id=\"p-vector-user-menu-overflow\" class=\"v...</td>\n",
       "      <td># Let's proceed step by step.\\n# First we need...</td>\n",
       "    </tr>\n",
       "  </tbody>\n",
       "</table>\n",
       "</div>"
      ],
      "text/plain": [
       "                                       url  \\\n",
       "0                       https://github.com   \n",
       "1                  https://huggingface.co/   \n",
       "2                      https://www.irs.gov   \n",
       "3                   https://www.kaggle.com   \n",
       "4  https://en.wikipedia.org/wiki/Main_Page   \n",
       "\n",
       "                                                html  \\\n",
       "0  <html lang=\"en\" data-a11y-animated-images=\"sys...   \n",
       "1  <html class=\"\"><head>\\n\\t\\t<meta charset=\"utf-...   \n",
       "2  <html lang=\"en\" dir=\"ltr\" prefix=\"content: htt...   \n",
       "3  <html lang=\"en\"><head><meta http-equiv=\"origin...   \n",
       "4  <html class=\"client-js vector-feature-language...   \n",
       "\n",
       "                                    query  \\\n",
       "0  click on start a free entreprise trial   \n",
       "1                       click on datasets   \n",
       "2         click on criminal investigation   \n",
       "3                   click on competitions   \n",
       "4                 click on create account   \n",
       "\n",
       "                                                node  \\\n",
       "0  <a class=\"btn-mktg home-campaign-enterprise bt...   \n",
       "1  <li><a class=\"group flex items-center px-2 py-...   \n",
       "2  </ul>\\n  \\n              </li>\\n              ...   \n",
       "3  <div class=\"sc-jiSpbx kcFuZv\"><div class=\"sc-h...   \n",
       "4  <div id=\"p-vector-user-menu-overflow\" class=\"v...   \n",
       "\n",
       "                                                code  \n",
       "0  # Let's proceed step by step.\\n# First we need...  \n",
       "1  # Let's proceed step by step.\\n# First we need...  \n",
       "2  # Let's proceed step by step.\\n# First we need...  \n",
       "3  # Let's proceed step by step.\\n# First we need...  \n",
       "4  # Let's proceed step by step.\\n# First we need...  "
      ]
     },
     "execution_count": 90,
     "metadata": {},
     "output_type": "execute_result"
    }
   ],
   "source": [
    "df = pd.read_csv('dataset.csv')\n",
    "df.head()"
   ]
  },
  {
   "cell_type": "code",
   "execution_count": 91,
   "metadata": {},
   "outputs": [],
   "source": [
    "DEFAULT_EMBED_MODEL = \"BAAI/bge-small-en-v1.5\"\n",
    "embed = HuggingFaceEmbedding(DEFAULT_EMBED_MODEL)"
   ]
  },
  {
   "cell_type": "code",
   "execution_count": 92,
   "metadata": {},
   "outputs": [],
   "source": [
    "def get_index_recursive(embed, html):\n",
    "        text_list = [html]\n",
    "        documents = [Document(text=t) for t in text_list]\n",
    "        \n",
    "        splitter = LangchainNodeParser(lc_splitter=RecursiveCharacterTextSplitter.from_language(\n",
    "            language=\"html\",\n",
    "        ))\n",
    "        \n",
    "        nodes = splitter.get_nodes_from_documents(documents)\n",
    "        nodes = [node for node in nodes if node.text]\n",
    "\n",
    "        index = VectorStoreIndex(nodes, embed_model=embed)\n",
    "\n",
    "        return index\n",
    "    \n",
    "def get_index_code(embed, html):\n",
    "        text_list = [html]\n",
    "        documents = [Document(text=t) for t in text_list]\n",
    "        \n",
    "        splitter = CodeSplitter(\n",
    "            language=\"html\",\n",
    "            chunk_lines=50,  # lines per chunk\n",
    "            chunk_lines_overlap=15,  # lines overlap between chunks\n",
    "            max_chars=2000,  # max chars per chunk\n",
    "        )\n",
    "        \n",
    "        nodes = splitter.get_nodes_from_documents(documents)\n",
    "        nodes = [node for node in nodes if node.text]\n",
    "\n",
    "        index = VectorStoreIndex(nodes, embed_model=embed)\n",
    "\n",
    "        return index"
   ]
  },
  {
   "cell_type": "code",
   "execution_count": 93,
   "metadata": {},
   "outputs": [],
   "source": [
    "os.environ[\"AZURE_OPENAI_KEY\"] = \"38774554c5d14584b2b0aeb3ef3c515b\"\n",
    "os.environ[\"AZURE_OPENAI_ENDPOINT\"] = \"https://canada-mith-oai.openai.azure.com/\"\n",
    "os.environ[\"AZURE_OPENAI_DEPLOYMENT_NAME\"] = \"gpt-4-turbo\"\n",
    "api_key=os.getenv(\"AZURE_OPENAI_KEY\")\n",
    "api_version=\"2023-05-15\"\n",
    "azure_endpoint = os.getenv(\"AZURE_OPENAI_ENDPOINT\")\n",
    "model = \"gpt-4\"\n",
    "deployment_name = os.getenv(\"AZURE_OPENAI_DEPLOYMENT_NAME\", \"gpt-4-turbo\")\n",
    "llm = AzureOpenAI(\n",
    "            model=model,\n",
    "            deployment_name=deployment_name,\n",
    "            api_key=api_key,\n",
    "            azure_endpoint=azure_endpoint,\n",
    "            api_version=api_version,\n",
    "            temperature=0.0\n",
    "        )"
   ]
  },
  {
   "cell_type": "code",
   "execution_count": 94,
   "metadata": {},
   "outputs": [],
   "source": [
    "def get_retriever_recursive(embed, html):\n",
    "    index_recursive = get_index_recursive(embed, html)\n",
    "    retriever_recursive = BM25Retriever.from_defaults(index = index_recursive, similarity_top_k=3)\n",
    "    return retriever_recursive\n",
    "\n",
    "def get_retriever_code(embed, html):\n",
    "    index_code = get_index_code(embed, html)\n",
    "    retriever_code = BM25Retriever.from_defaults(index = index_code, similarity_top_k=3)\n",
    "    return retriever_code"
   ]
  },
  {
   "cell_type": "code",
   "execution_count": 95,
   "metadata": {},
   "outputs": [],
   "source": [
    "QUERY_GEN_PROMPT = (\n",
    "    \"You are a helpful assistant that generates multiple queries for net browsing based on a \"\n",
    "    \"single input query. Generate {num_queries} queries, one on each line, \"\n",
    "    \"to accomplish the same action as the following input query:\\n\"\n",
    "    \"Query: {query}\\n\"\n",
    "    \"Queries:\\n\"\n",
    ")"
   ]
  },
  {
   "cell_type": "code",
   "execution_count": 96,
   "metadata": {},
   "outputs": [],
   "source": [
    "def get_retriever_recursive_fusion(embed, html):\n",
    "    index_recursive = get_index_recursive(embed, html)\n",
    "    retriever_recursive = BM25Retriever.from_defaults(index = index_recursive, similarity_top_k=3)\n",
    "    retriever = QueryFusionRetriever(\n",
    "        \n",
    "        [index_recursive.as_retriever(), retriever_recursive],\n",
    "        similarity_top_k=3,\n",
    "        num_queries=6,  # set this to 1 to disable query generation\n",
    "        mode=\"reciprocal_rerank\",\n",
    "        verbose=True,\n",
    "        use_async=False,\n",
    "        llm=llm,\n",
    "        query_gen_prompt=QUERY_GEN_PROMPT,  # we could override the query generation prompt here\n",
    "    )\n",
    "    return retriever\n",
    "\n",
    "def get_retriever_code_fusion(embed, html):\n",
    "    index_code = get_index_code(embed, html)\n",
    "    retriever_code = BM25Retriever.from_defaults(index = index_code, similarity_top_k=3)\n",
    "    retriever = QueryFusionRetriever(\n",
    "        [index_code.as_retriever(), retriever_code],\n",
    "        similarity_top_k=3,\n",
    "        num_queries=6,  # set this to 1 to disable query generation\n",
    "        mode=\"reciprocal_rerank\",\n",
    "        use_async=False,\n",
    "        llm=llm,\n",
    "        query_gen_prompt=QUERY_GEN_PROMPT,  # we could override the query generation prompt here\n",
    "    )\n",
    "    return retriever"
   ]
  },
  {
   "cell_type": "code",
   "execution_count": 97,
   "metadata": {},
   "outputs": [],
   "source": [
    "def get_retriever_recursive_as_retriever(embed, html):\n",
    "    index_recursive = get_index_recursive(embed, html)\n",
    "    return index_recursive.as_retriever(similarity_top_k=3)"
   ]
  },
  {
   "cell_type": "code",
   "execution_count": 98,
   "metadata": {},
   "outputs": [],
   "source": [
    "retrievers = {'retriever_recursive': get_retriever_recursive,\n",
    "              'get_retriever_recursive_as_retriever': get_retriever_recursive_as_retriever,\n",
    "              }"
   ]
  },
  {
   "cell_type": "code",
   "execution_count": 99,
   "metadata": {},
   "outputs": [],
   "source": [
    "retrievers_fusion = {'retriever_recursive_fusion': get_retriever_recursive_fusion,\n",
    "                     'get_retriever_code_fusion': get_retriever_code_fusion,\n",
    "                        }"
   ]
  },
  {
   "cell_type": "code",
   "execution_count": 100,
   "metadata": {},
   "outputs": [],
   "source": [
    "def longest_common_substring(s1, s2):\n",
    "    m, n = len(s1), len(s2)\n",
    "    dp = [[0] * (n+1) for _ in range(m+1)]  # DP table\n",
    "    longest, end_pos = 0, 0\n",
    "    \n",
    "    for i in range(1, m+1):\n",
    "        for j in range(1, n+1):\n",
    "            if s1[i-1] == s2[j-1]:\n",
    "                dp[i][j] = dp[i-1][j-1] + 1\n",
    "                if dp[i][j] > longest:\n",
    "                    longest = dp[i][j]\n",
    "                    end_pos = i\n",
    "            else:\n",
    "                dp[i][j] = 0\n",
    "    return longest, s1[end_pos-longest: end_pos]\n",
    "\n",
    "def compute_lcs_scores(true_node, output_node):\n",
    "    lcs_length, longest = longest_common_substring(true_node, output_node)\n",
    "    true_node_score = lcs_length / len(true_node)\n",
    "    output_node_score = lcs_length / len(output_node)\n",
    "    return [true_node_score, output_node_score]\n",
    "\n",
    "def calculate_metrics(embed, get_retrievers, df):\n",
    "    score = {}\n",
    "    text = {}\n",
    "    for retriever_name in get_retrievers:\n",
    "        score[retriever_name] = []\n",
    "        text[retriever_name] = []\n",
    "    for i in tqdm(range(len(df))):\n",
    "        for retriever_name in get_retrievers:\n",
    "            query = df.iloc[i]['query']\n",
    "            true_node = df.iloc[i]['node']\n",
    "            retriever = get_retrievers[retriever_name](embed, df.iloc[i]['html'])\n",
    "            results = retriever.retrieve(query)\n",
    "            s = [0.0, 0.0]\n",
    "            for result in results:\n",
    "                if retriever_name == 'retriever_window':\n",
    "                    sc = compute_lcs_scores(true_node, result.metadata['window'])\n",
    "                else :\n",
    "                    sc = compute_lcs_scores(true_node, result.get_text())\n",
    "                if sc[0] > s[0]:\n",
    "                    s = sc            \n",
    "            score[retriever_name].append(s)\n",
    "            text[retriever_name].append(results)\n",
    "    for retriever_name in get_retrievers:\n",
    "        score[retriever_name] = np.array(score[retriever_name])\n",
    "        print(f'{retriever_name} - true_in_output_score: {score[retriever_name].mean(axis=0)[0]}, output_in_true_score: {score[retriever_name].mean(axis=0)[1]}')\n",
    "    return score, text            "
   ]
  },
  {
   "cell_type": "code",
   "execution_count": 101,
   "metadata": {},
   "outputs": [
    {
     "name": "stderr",
     "output_type": "stream",
     "text": [
      "  0%|          | 0/10 [00:00<?, ?it/s]"
     ]
    },
    {
     "name": "stdout",
     "output_type": "stream",
     "text": [
      "Generated queries:\n",
      "1. How to initiate a free enterprise trial\n",
      "2. Steps to begin a free trial for business software\n",
      "3. Guide to starting a free enterprise version trial\n",
      "4. Instructions for activating a free trial of enterprise solutions\n",
      "5. Process for enrolling in a free enterprise package trial\n"
     ]
    },
    {
     "name": "stderr",
     "output_type": "stream",
     "text": [
      " 10%|█         | 1/10 [00:19<02:54, 19.39s/it]"
     ]
    },
    {
     "name": "stdout",
     "output_type": "stream",
     "text": [
      "Generated queries:\n",
      "1. Find datasets to download\n",
      "2. Access datasets online\n",
      "3. Locate downloadable datasets\n",
      "4. Search for datasets to click on\n",
      "5. Navigate to dataset repositories\n"
     ]
    },
    {
     "name": "stderr",
     "output_type": "stream",
     "text": [
      " 20%|██        | 2/10 [00:30<01:56, 14.62s/it]"
     ]
    },
    {
     "name": "stdout",
     "output_type": "stream",
     "text": [
      "Generated queries:\n",
      "1. How to start a criminal investigation process\n",
      "2. Steps involved in conducting a criminal investigation\n",
      "3. Criminal investigation techniques and procedures\n",
      "4. Best practices for law enforcement in criminal investigations\n",
      "5. Criminal investigation training and resources online\n"
     ]
    },
    {
     "name": "stderr",
     "output_type": "stream",
     "text": [
      " 30%|███       | 3/10 [00:52<02:04, 17.72s/it]"
     ]
    },
    {
     "name": "stdout",
     "output_type": "stream",
     "text": [
      "Generated queries:\n",
      "1. Find online competitions to participate in\n",
      "2. Search for current competitions to click on\n",
      "3. Locate active competitions registration page\n",
      "4. Access recent competitions entry forms\n",
      "5. Navigate to ongoing competitions sign-up links\n"
     ]
    },
    {
     "name": "stderr",
     "output_type": "stream",
     "text": [
      " 40%|████      | 4/10 [01:03<01:31, 15.25s/it]"
     ]
    },
    {
     "name": "stdout",
     "output_type": "stream",
     "text": [
      "Generated queries:\n",
      "1. How to create a new account online\n",
      "2. Steps to register for an account on a website\n",
      "3. Guide for signing up for a new user account\n",
      "4. Instructions to make an account on a platform\n",
      "5. Process for account creation on the internet\n"
     ]
    },
    {
     "name": "stderr",
     "output_type": "stream",
     "text": [
      " 50%|█████     | 5/10 [01:15<01:10, 14.14s/it]"
     ]
    },
    {
     "name": "stdout",
     "output_type": "stream",
     "text": [
      "Generated queries:\n",
      "1. How to access Gmail account\n",
      "2. Open Gmail inbox online\n",
      "3. Gmail sign in page\n",
      "4. Check Gmail messages\n",
      "5. Gmail login portal\n"
     ]
    },
    {
     "name": "stderr",
     "output_type": "stream",
     "text": [
      " 60%|██████    | 6/10 [01:27<00:53, 13.43s/it]"
     ]
    },
    {
     "name": "stdout",
     "output_type": "stream",
     "text": [
      "Generated queries:\n",
      "1. How to begin a free trial subscription\n",
      "2. Steps to activate free trial offer\n",
      "3. Guide to starting a trial period for a service\n",
      "4. Instructions for enrolling in a free trial\n",
      "5. Process for initiating a free trial membership\n"
     ]
    },
    {
     "name": "stderr",
     "output_type": "stream",
     "text": [
      " 70%|███████   | 7/10 [01:51<00:50, 16.88s/it]"
     ]
    },
    {
     "name": "stdout",
     "output_type": "stream",
     "text": [
      "Generated queries:\n",
      "1. How to use a PC configurator tool online\n",
      "2. Steps to configure a custom PC using a configurator\n",
      "3. Guide to selecting components on a PC builder website\n",
      "4. Instructions for clicking through a PC configuration process\n",
      "5. Tutorial for using an online PC configurator to build a computer\n"
     ]
    },
    {
     "name": "stderr",
     "output_type": "stream",
     "text": [
      " 80%|████████  | 8/10 [02:02<00:30, 15.05s/it]"
     ]
    },
    {
     "name": "stdout",
     "output_type": "stream",
     "text": [
      "Generated queries:\n",
      "1. How to focus on a search bar using keyboard shortcuts?\n",
      "2. Steps to input a website address in a search bar.\n",
      "3. Guide to entering a domain name in a browser's search field.\n",
      "4. Instructions for clicking into a search bar and typing a URL.\n",
      "5. Methods to navigate to a search bar and enter a web address manually.\n"
     ]
    },
    {
     "name": "stderr",
     "output_type": "stream",
     "text": [
      " 90%|█████████ | 9/10 [02:22<00:16, 16.50s/it]"
     ]
    },
    {
     "name": "stdout",
     "output_type": "stream",
     "text": [
      "Generated queries:\n",
      "1. How to start using a service for free\n",
      "2. Steps to sign up for a free trial online\n",
      "3. Guide to accessing free version of a software\n",
      "4. Instructions for clicking the \"Get Started\" button for free services\n",
      "5. Process for initiating a free service subscription online\n"
     ]
    },
    {
     "name": "stderr",
     "output_type": "stream",
     "text": [
      "100%|██████████| 10/10 [02:42<00:00, 16.28s/it]"
     ]
    },
    {
     "name": "stdout",
     "output_type": "stream",
     "text": [
      "retriever_recursive_fusion - true_in_output_score: 0.8211294358507735, output_in_true_score: 0.17218202468251703\n",
      "get_retriever_code_fusion - true_in_output_score: 0.815338726947284, output_in_true_score: 0.47379441734014033\n"
     ]
    },
    {
     "name": "stderr",
     "output_type": "stream",
     "text": [
      "\n"
     ]
    }
   ],
   "source": [
    "score, text = calculate_metrics(embed, retrievers_fusion, df)"
   ]
  },
  {
   "cell_type": "code",
   "execution_count": 103,
   "metadata": {},
   "outputs": [
    {
     "data": {
      "text/plain": [
       "{'retriever_recursive_fusion': array([[1.        , 0.41101152],\n",
       "        [0.18035714, 0.14346591],\n",
       "        [1.        , 0.45072574],\n",
       "        [0.03093722, 0.01156069],\n",
       "        [1.        , 0.22163309],\n",
       "        [1.        , 0.11308517],\n",
       "        [1.        , 0.13822246],\n",
       "        [1.        , 0.03766578],\n",
       "        [1.        , 0.0954557 ],\n",
       "        [1.        , 0.09899418]]),\n",
       " 'get_retriever_code_fusion': array([[0.99454829, 0.99454829],\n",
       "        [0.18035714, 0.11542857],\n",
       "        [0.90169492, 0.90424929],\n",
       "        [1.        , 0.55115346],\n",
       "        [1.        , 0.5005988 ],\n",
       "        [1.        , 0.87363834],\n",
       "        [1.        , 0.41557377],\n",
       "        [0.77464789, 0.07959479],\n",
       "        [1.        , 0.20557682],\n",
       "        [0.30213904, 0.09758204]])}"
      ]
     },
     "execution_count": 103,
     "metadata": {},
     "output_type": "execute_result"
    }
   ],
   "source": [
    "score"
   ]
  },
  {
   "cell_type": "code",
   "execution_count": 105,
   "metadata": {},
   "outputs": [],
   "source": [
    "df2 = pd.DataFrame()\n",
    "for retriever_name in retrievers_fusion:\n",
    "    t = []\n",
    "    for i in range(len(df)):\n",
    "        u = \"\"\n",
    "        for j in range(3):\n",
    "            u += text[retriever_name][i][j].get_text() + \" \"\n",
    "        t.append(u)\n",
    "    df2[retriever_name] = t\n",
    "    \n",
    "    \n",
    "    "
   ]
  },
  {
   "cell_type": "code",
   "execution_count": 117,
   "metadata": {},
   "outputs": [],
   "source": [
    "df2 = pd.read_csv('predicted_nodes.csv')"
   ]
  }
 ],
 "metadata": {
  "kernelspec": {
   "display_name": "lavague_test",
   "language": "python",
   "name": "python3"
  },
  "language_info": {
   "codemirror_mode": {
    "name": "ipython",
    "version": 3
   },
   "file_extension": ".py",
   "mimetype": "text/x-python",
   "name": "python",
   "nbconvert_exporter": "python",
   "pygments_lexer": "ipython3",
   "version": "3.10.14"
  }
 },
 "nbformat": 4,
 "nbformat_minor": 2
}
